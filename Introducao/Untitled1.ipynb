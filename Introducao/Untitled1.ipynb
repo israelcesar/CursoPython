{
 "cells": [
  {
   "cell_type": "code",
   "execution_count": 5,
   "id": "93d57d14",
   "metadata": {
    "scrolled": true
   },
   "outputs": [
    {
     "name": "stdout",
     "output_type": "stream",
     "text": [
      "[1, 3, 5]\n"
     ]
    }
   ],
   "source": [
    "\"\"\"\n",
    "x = [1,2,3,4,5]\n",
    "y = []\n",
    "\n",
    "Modo mais simples\n",
    "\n",
    "for i in x:\n",
    "    y.append(i**2)\n",
    "    \n",
    "print(x)\n",
    "print(y)\n",
    "\"\"\"\n",
    "\n",
    "# Usando List Comprehansions\n",
    "x = [1,2,3,4,5]\n",
    "y = [i**2 for i in x] # Adicionando os números de X ao quadrado\n",
    "z = [i for i in x if i%2 == 1] # Adicionando somente os números ímpares\n",
    "\n",
    "print(z)"
   ]
  },
  {
   "cell_type": "code",
   "execution_count": null,
   "id": "cde13b9e",
   "metadata": {},
   "outputs": [],
   "source": []
  }
 ],
 "metadata": {
  "kernelspec": {
   "display_name": "Python 3",
   "language": "python",
   "name": "python3"
  },
  "language_info": {
   "codemirror_mode": {
    "name": "ipython",
    "version": 3
   },
   "file_extension": ".py",
   "mimetype": "text/x-python",
   "name": "python",
   "nbconvert_exporter": "python",
   "pygments_lexer": "ipython3",
   "version": "3.8.8"
  }
 },
 "nbformat": 4,
 "nbformat_minor": 5
}
