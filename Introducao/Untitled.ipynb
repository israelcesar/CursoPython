{
 "cells": [
  {
   "cell_type": "code",
   "execution_count": 4,
   "id": "c6582afe",
   "metadata": {},
   "outputs": [
    {
     "name": "stdout",
     "output_type": "stream",
     "text": [
      "Digite sua idade:\n",
      "\n",
      "17\n",
      "Você ainda é de menor\n"
     ]
    }
   ],
   "source": [
    "print(\"Digite sua idade:\\n\")\n",
    "idade = int(input())\n",
    "\n",
    "if (idade >= 18):\n",
    "    print(\"Você é maior de idade!\")\n",
    "else:\n",
    "    print(\"Você ainda é de menor\")"
   ]
  },
  {
   "cell_type": "code",
   "execution_count": null,
   "id": "98deda0c",
   "metadata": {},
   "outputs": [],
   "source": []
  },
  {
   "cell_type": "code",
   "execution_count": null,
   "id": "7419cf9c",
   "metadata": {},
   "outputs": [],
   "source": []
  }
 ],
 "metadata": {
  "kernelspec": {
   "display_name": "Python 3",
   "language": "python",
   "name": "python3"
  },
  "language_info": {
   "codemirror_mode": {
    "name": "ipython",
    "version": 3
   },
   "file_extension": ".py",
   "mimetype": "text/x-python",
   "name": "python",
   "nbconvert_exporter": "python",
   "pygments_lexer": "ipython3",
   "version": "3.8.8"
  }
 },
 "nbformat": 4,
 "nbformat_minor": 5
}
